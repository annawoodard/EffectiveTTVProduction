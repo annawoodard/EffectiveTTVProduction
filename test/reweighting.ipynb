{
 "cells": [
  {
   "cell_type": "code",
   "execution_count": 1,
   "metadata": {
    "collapsed": true
   },
   "outputs": [],
   "source": [
    "%matplotlib inline"
   ]
  },
  {
   "cell_type": "code",
   "execution_count": 2,
   "metadata": {
    "collapsed": true
   },
   "outputs": [],
   "source": [
    "import os\n",
    "import sys\n",
    "import time\n",
    "\n",
    "sys.path.append('/afs/crc.nd.edu/user/a/awoodard/releases/np-fit-production/CMSSW_7_4_7/python')\n",
    "sys.path.append('/afs/crc.nd.edu/user/a/awoodard/.local/lib/python2.7/site-packages/')\n",
    "\n",
    "import numpy as np\n",
    "import matplotlib.pyplot as plt\n",
    "from matplotlib.colors import LogNorm\n",
    "import matplotlib.ticker as ticker"
   ]
  },
  {
   "cell_type": "code",
   "execution_count": 3,
   "metadata": {
    "collapsed": true
   },
   "outputs": [],
   "source": [
    "from NPFitProduction.NPFitProduction.cross_sections import parse_lhe_weights, CrossSectionScan"
   ]
  },
  {
   "cell_type": "code",
   "execution_count": 4,
   "metadata": {
    "collapsed": true
   },
   "outputs": [],
   "source": [
    "outdir = '/afs/crc.nd.edu/user/a/awoodard/www/.private/ttV/reweighting_v2'\n",
    "lhe = '/afs/crc.nd.edu/user/a/awoodard/np-fit-production/test/reweight_v2/processtmp/Events/run_01/unweighted_events.lhe'\n",
    "coefficients = ['cuB']"
   ]
  },
  {
   "cell_type": "code",
   "execution_count": 5,
   "metadata": {
    "collapsed": true
   },
   "outputs": [],
   "source": [
    "outdir = '/afs/crc.nd.edu/user/a/awoodard/www/.private/ttV/reweighting_v5'\n",
    "lhe = '/afs/crc.nd.edu/user/a/awoodard/np-fit-production/test/reweight_v5/processtmp/Events/run_01/unweighted_events.lhe'\n",
    "coefficients = ['cuW', 'cuB', 'cH', 'tc3G', 'c3G', 'cHu', 'c2G', 'cuG']"
   ]
  },
  {
   "cell_type": "code",
   "execution_count": 6,
   "metadata": {
    "collapsed": true
   },
   "outputs": [],
   "source": [
    "indices = dict((c, i) for i, c in enumerate(coefficients))\n",
    "\n",
    "if not os.path.isdir(outdir):\n",
    "    os.makedirs(outdir)"
   ]
  },
  {
   "cell_type": "code",
   "execution_count": 7,
   "metadata": {
    "collapsed": true
   },
   "outputs": [],
   "source": [
    "scan = CrossSectionScan('/hadoop/store/user/awoodard/ttV/cross_sections/25/merged/8d.npz')"
   ]
  },
  {
   "cell_type": "markdown",
   "metadata": {},
   "source": [
    "`weights`: each row corresponds to an event, each column corresponds to a point\n",
    "\n",
    "`points`: each row corresponds to a point, each column corresponds to a coefficient"
   ]
  },
  {
   "cell_type": "code",
   "execution_count": 8,
   "metadata": {
    "scrolled": false
   },
   "outputs": [
    {
     "name": "stdout",
     "output_type": "stream",
     "text": [
      "parsing /afs/crc.nd.edu/user/a/awoodard/np-fit-production/test/reweight_v5/processtmp/Events/run_01/unweighted_events.lhe\n",
      "will process 277 points in 50000 events\n",
      "completed 0 / 50000 events\n",
      "completed 10000 / 50000 events\n",
      "completed 20000 / 50000 events\n",
      "completed 30000 / 50000 events\n",
      "completed 40000 / 50000 events\n"
     ]
    }
   ],
   "source": [
    "points, weights = parse_lhe_weights(lhe, coefficients)"
   ]
  },
  {
   "cell_type": "code",
   "execution_count": 32,
   "metadata": {},
   "outputs": [
    {
     "name": "stdout",
     "output_type": "stream",
     "text": [
      "fit 277 points for 50000 events in 137 seconds\n"
     ]
    }
   ],
   "source": [
    "start = time.time()\n",
    "for event in range(len(weights)):\n",
    "    constants, _, _, _ = np.linalg.lstsq(scan.model(points), weights[event])\n",
    "print(\"fit {} points for {} events in {} seconds\".format(len(points), len(weights), int(time.time() - start)))"
   ]
  },
  {
   "cell_type": "code",
   "execution_count": 31,
   "metadata": {},
   "outputs": [
    {
     "name": "stdout",
     "output_type": "stream",
     "text": [
      "finished 50000 fits to 263 points in 150 seconds\n"
     ]
    }
   ],
   "source": [
    "test = [i for i in range(1, len(points)) if i % 20 == 0]\n",
    "train = [i for i in range(1, len(points)) if i % 20 != 0]\n",
    "\n",
    "errs = np.zeros((len(weights), len(points[test])))\n",
    "fits = np.zeros((len(weights), len(points[test])))\n",
    "start = time.time()\n",
    "for event in range(len(weights)):\n",
    "    constants, _, _, _ = np.linalg.lstsq(scan.model(points[train]), weights[event][train])\n",
    "    fit = np.dot(scan.model(points[test]), constants)\n",
    "    mg = weights[event][test]\n",
    "\n",
    "    errs[event] = (mg - fit) / mg * 100\n",
    "    fits[event] = fit\n",
    "\n",
    "print('finished {} fits to {} points in {} seconds'.format(\n",
    "    len(weights),\n",
    "    len(points[train]),\n",
    "    int(time.time() - start))\n",
    ")"
   ]
  },
  {
   "cell_type": "code",
   "execution_count": 33,
   "metadata": {
    "scrolled": false
   },
   "outputs": [
    {
     "data": {
      "image/png": "[encoded data removed]",
      "text/plain": [
       "<matplotlib.figure.Figure at 0x7fca70189208>"
      ]
     },
     "metadata": {},
     "output_type": "display_data"
    }
   ],
   "source": [
    "plt.hist(errs.ravel(), 50, histtype='step', log=True, fill=False)\n",
    "plt.xlabel('$(\\mathrm{weight}_{\\mathrm{MG}} - \\mathrm{weight}_{\\mathrm{fit}}) / \\mathrm{weight}_{\\mathrm{MG}} * 100$')\n",
    "plt.ylabel('counts')\n",
    "\n",
    "plt.savefig(os.path.join(outdir, 'errs.pdf'), bbox_inches='tight')"
   ]
  },
  {
   "cell_type": "code",
   "execution_count": 34,
   "metadata": {},
   "outputs": [
    {
     "data": {
      "image/png": "[encoded data removed]",
      "text/plain": [
       "<matplotlib.figure.Figure at 0x7fca6ff0ba58>"
      ]
     },
     "metadata": {},
     "output_type": "display_data"
    }
   ],
   "source": [
    "x = np.concatenate([points[:, indices['cuB']] for i in weights]).ravel()\n",
    "y = weights.ravel()\n",
    "bins = [\n",
    "    np.linspace(x.min(), x.max(), 20),\n",
    "    np.logspace(np.log10(y.min()), np.log10(y.max()), 20)\n",
    "]\n",
    "\n",
    "plt.yscale('log')\n",
    "H, xedges, yedges = np.histogram2d(x, y, bins=bins)\n",
    "plt.pcolormesh(xedges, yedges, H.T, norm=LogNorm())\n",
    "\n",
    "plt.xlabel('$\\mathrm{c}_\\mathrm{uB}$')\n",
    "plt.ylabel('weight')\n",
    "plt.colorbar(label='counts')\n",
    "plt.savefig(os.path.join(outdir, 'cuB_vs_weight.pdf'), bbox_inches='tight')"
   ]
  },
  {
   "cell_type": "markdown",
   "metadata": {},
   "source": [
    "Above is the projection from the 8-dimensional space onto the cuB axis."
   ]
  },
  {
   "cell_type": "code",
   "execution_count": 35,
   "metadata": {},
   "outputs": [
    {
     "data": {
      "image/png": "[encoded data removed]",
      "text/plain": [
       "<matplotlib.figure.Figure at 0x7fca6ff395f8>"
      ]
     },
     "metadata": {},
     "output_type": "display_data"
    }
   ],
   "source": [
    "x = np.concatenate([points[test][:, indices['cuB']] for i in errs]).ravel()\n",
    "y = np.abs(errs).ravel()\n",
    "\n",
    "bins = [\n",
    "    np.linspace(x.min(), x.max(), 20),\n",
    "    np.logspace(np.log10(y.min()), np.log10(y.max()), 20)\n",
    "]\n",
    "\n",
    "plt.yscale('log')\n",
    "H, xedges, yedges = np.histogram2d(x, y, bins=bins)\n",
    "plt.pcolormesh(xedges, yedges, H.T, norm=LogNorm())\n",
    "plt.xlabel('$\\mathrm{c}_\\mathrm{uB}$')\n",
    "plt.ylabel('$(\\mathrm{weight}_{\\mathrm{MG}} - \\mathrm{weight}_{\\mathrm{fit}}) / \\mathrm{weight}_{\\mathrm{MG}} * 100$')\n",
    "plt.colorbar(label='counts')\n",
    "plt.savefig(os.path.join(outdir, 'cuB_vs_err.pdf'), bbox_inches='tight')"
   ]
  },
  {
   "cell_type": "markdown",
   "metadata": {},
   "source": [
    "Note that the plot above only uses test points which were not included in the fit. The blank vertical bars correspond to the `train` points which were included in the fit."
   ]
  },
  {
   "cell_type": "code",
   "execution_count": 36,
   "metadata": {},
   "outputs": [
    {
     "data": {
      "image/png": "[encoded data removed]",
      "text/plain": [
       "<matplotlib.figure.Figure at 0x7fca6f98ebe0>"
      ]
     },
     "metadata": {},
     "output_type": "display_data"
    }
   ],
   "source": [
    "x = weights[:,test].ravel()\n",
    "y = np.abs(errs.ravel())\n",
    "\n",
    "bins = [\n",
    "    np.logspace(np.log10(x.min()), np.log10(x.max()), 20),\n",
    "    np.logspace(np.log10(y.min()), np.log10(y.max()), 20)\n",
    "]\n",
    "\n",
    "plt.xscale('log')\n",
    "plt.yscale('log')\n",
    "H, xedges, yedges = np.histogram2d(x, y, bins=bins)\n",
    "plt.pcolormesh(xedges, yedges, H.T, norm=LogNorm())\n",
    "\n",
    "plt.xlabel('weight')\n",
    "plt.ylabel('$(\\mathrm{weight}_{\\mathrm{MG}} - \\mathrm{weight}_{\\mathrm{fit}}) / \\mathrm{weight}_{\\mathrm{MG}} * 100$')\n",
    "plt.colorbar(label='counts')\n",
    "plt.savefig(os.path.join(outdir, 'weight_vs_err.pdf'), bbox_inches='tight')"
   ]
  },
  {
   "cell_type": "markdown",
   "metadata": {},
   "source": [
    "The only thing more confusing than a log log plot is a log log log plot."
   ]
  },
  {
   "cell_type": "code",
   "execution_count": 37,
   "metadata": {},
   "outputs": [
    {
     "data": {
      "image/png": "[encoded data removed]",
      "text/plain": [
       "<matplotlib.figure.Figure at 0x7fca6f4e8400>"
      ]
     },
     "metadata": {},
     "output_type": "display_data"
    }
   ],
   "source": [
    "bins = np.logspace(np.log10(fits.min()), np.log10(fits.max()), 100)\n",
    "\n",
    "plt.xscale('log')\n",
    "plt.yscale('log')\n",
    "plt.hist(fits.ravel(), bins=bins, histtype='step', fill=False, log=True, lw=3, color='red')\n",
    "plt.hist(weights[:,test].ravel(), bins=bins, histtype='step', fill=False, log=True, color='blue')\n",
    "\n",
    "fit_label, = plt.plot([0, 0], color='red')  # hack to show lines instead of boxes in the legend\n",
    "mg_label, = plt.plot([0, 0], color='blue')\n",
    "\n",
    "plt.xlabel('weight')\n",
    "plt.ylabel('counts')\n",
    "plt.legend([fit_label, mg_label], ['fit', 'MG'], loc='upper right')\n",
    "\n",
    "plt.savefig(os.path.join(outdir, 'fit_and_mg.pdf'), bbox_inches='tight')\n"
   ]
  },
  {
   "cell_type": "code",
   "execution_count": 42,
   "metadata": {},
   "outputs": [
    {
     "data": {
      "image/png": "[encoded data removed]",
      "text/plain": [
       "<matplotlib.figure.Figure at 0x7fca6c0c2d30>"
      ]
     },
     "metadata": {},
     "output_type": "display_data"
    }
   ],
   "source": [
    "sm = sum(weights[:, 0])\n",
    "scales = [sum(weights[:, i]) / sm for i in range(weights.shape[1])]\n",
    "\n",
    "x = np.concatenate([scales for i in weights]).ravel()\n",
    "y = weights.ravel()\n",
    "\n",
    "bins = [\n",
    "    np.logspace(np.log10(x.min()), np.log10(x.max()), 15),\n",
    "    np.logspace(np.log10(y.min()), np.log10(y.max()), 15)\n",
    "]\n",
    "\n",
    "plt.xscale('log')\n",
    "plt.yscale('log')\n",
    "H, xedges, yedges = np.histogram2d(x, y, bins=bins)\n",
    "plt.pcolormesh(xedges, yedges, H.T, norm=LogNorm())\n",
    "\n",
    "plt.xlabel('$\\sigma_\\mathrm{NP+SM}/\\sigma_\\mathrm{SM}$')\n",
    "plt.ylabel('weight')\n",
    "plt.colorbar(label='counts')\n",
    "plt.savefig(os.path.join(outdir, 'weight_vs_scale.pdf'), bbox_inches='tight')"
   ]
  },
  {
   "cell_type": "markdown",
   "metadata": {},
   "source": [
    "In the above plot, all of the weights corresponding to each point are added to obtain the total cross section at that point. In the reweight card the first point is specified to be the SM point, so dividing the two gives you the scaling. This plot only means anything if the reweighting makes sense, which remains to be seen."
   ]
  },
  {
   "cell_type": "code",
   "execution_count": null,
   "metadata": {
    "collapsed": true
   },
   "outputs": [],
   "source": []
  }
 ],
 "metadata": {
  "kernelspec": {
   "display_name": "Python 3",
   "language": "python",
   "name": "python3"
  },
  "language_info": {
   "codemirror_mode": {
    "name": "ipython",
    "version": 3
   },
   "file_extension": ".py",
   "mimetype": "text/x-python",
   "name": "python",
   "nbconvert_exporter": "python",
   "pygments_lexer": "ipython3",
   "version": "3.6.1"
  }
 },
 "nbformat": 4,
 "nbformat_minor": 2
}
